{
 "cells": [
  {
   "cell_type": "code",
   "execution_count": 8,
   "metadata": {},
   "outputs": [
    {
     "name": "stdout",
     "output_type": "stream",
     "text": [
      "April\n",
      "Brenda\n",
      "Fritz\n",
      "Hello, April\n",
      "Hello, Brenda\n",
      "Hello, Fritz\n",
      "I think the latest Yamaha YZF-R1 is really stylish.\n"
     ]
    }
   ],
   "source": [
    "## 3.1 - 3.3 \n",
    "\n",
    "names = ['April', 'Brenda', 'Fritz']\n",
    "print(f\"{names[0]}\")\n",
    "print(f\"{names[1]}\")\n",
    "print(f\"{names[2]}\")\n",
    "\n",
    "message = (\"Hello, \")\n",
    "print(f\"{message}{names[0]}\")\n",
    "print(f\"{message}{names[1]}\")\n",
    "print(f\"{message}{names[2]}\")\n",
    "\n",
    "motorcycle = ['Honda','Yamaha', 'YZF-R1']\n",
    "message_motor = (f\"I think the latest {motorcycle[1]} {motorcycle[2]} is stylish.\")\n",
    "print(f\"{message_motor}\")"
   ]
  },
  {
   "cell_type": "code",
   "execution_count": null,
   "metadata": {},
   "outputs": [],
   "source": [
    "# 3.4 - 3.7 "
   ]
  },
  {
   "cell_type": "code",
   "execution_count": null,
   "metadata": {},
   "outputs": [],
   "source": [
    "# 3.8 - 3.10 "
   ]
  },
  {
   "cell_type": "code",
   "execution_count": null,
   "metadata": {},
   "outputs": [],
   "source": [
    "# 3.11 "
   ]
  }
 ],
 "metadata": {
  "kernelspec": {
   "display_name": "Python 3",
   "language": "python",
   "name": "python3"
  },
  "language_info": {
   "codemirror_mode": {
    "name": "ipython",
    "version": 3
   },
   "file_extension": ".py",
   "mimetype": "text/x-python",
   "name": "python",
   "nbconvert_exporter": "python",
   "pygments_lexer": "ipython3",
   "version": "3.12.1"
  }
 },
 "nbformat": 4,
 "nbformat_minor": 2
}
