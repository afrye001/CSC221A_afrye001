{
 "cells": [
  {
   "cell_type": "code",
   "execution_count": 1,
   "metadata": {},
   "outputs": [
    {
     "name": "stdout",
     "output_type": "stream",
     "text": [
      "April\n",
      "Brenda\n",
      "Fritz\n"
     ]
    }
   ],
   "source": [
    "# 3.1\n",
    "\n",
    "names = ['April', 'Brenda', 'Fritz']\n",
    "print(f\"{names[0]}\")\n",
    "print(f\"{names[1]}\")\n",
    "print(f\"{names[2]}\")"
   ]
  },
  {
   "cell_type": "code",
   "execution_count": 2,
   "metadata": {},
   "outputs": [
    {
     "name": "stdout",
     "output_type": "stream",
     "text": [
      "Hello, April\n",
      "Hello, Brenda\n",
      "Hello, Fritz\n"
     ]
    }
   ],
   "source": [
    "# 3.2\n",
    "\n",
    "message = (\"Hello, \")\n",
    "print(f\"{message}{names[0]}\")\n",
    "print(f\"{message}{names[1]}\")\n",
    "print(f\"{message}{names[2]}\")"
   ]
  },
  {
   "cell_type": "code",
   "execution_count": 3,
   "metadata": {},
   "outputs": [
    {
     "name": "stdout",
     "output_type": "stream",
     "text": [
      "I think the latest Yamaha YZF-R1 is stylish.\n"
     ]
    }
   ],
   "source": [
    "# 3.3 \n",
    "\n",
    "motorcycle = ['Honda','Yamaha', 'YZF-R1']\n",
    "message_motor = (f\"I think the latest {motorcycle[1]} {motorcycle[2]} is stylish.\")\n",
    "print(f\"{message_motor}\")"
   ]
  },
  {
   "cell_type": "code",
   "execution_count": 4,
   "metadata": {},
   "outputs": [
    {
     "name": "stdout",
     "output_type": "stream",
     "text": [
      "Hello April, would you like to go to dinner?\n",
      "Hello Breanna, would you like to go to dinner?\n",
      "Hello Fritz, would you like to go to dinner?\n"
     ]
    }
   ],
   "source": [
    "# 3.4 \n",
    "\n",
    "guestList = ['April', 'Breanna', 'Fritz']\n",
    "print(f\"Hello {guestList[0]}, would you like to go to dinner?\")\n",
    "print(f\"Hello {guestList[1]}, would you like to go to dinner?\")\n",
    "print(f\"Hello {guestList[2]}, would you like to go to dinner?\")"
   ]
  },
  {
   "cell_type": "code",
   "execution_count": 5,
   "metadata": {},
   "outputs": [
    {
     "name": "stdout",
     "output_type": "stream",
     "text": [
      "Fritz can't make it!\n",
      "Hello April, would you like to go to dinner?\n",
      "Hello John, would you like to go to dinner?\n",
      "Hello Breanna, would you like to go to dinner?\n"
     ]
    }
   ],
   "source": [
    "# 3.5 \n",
    "\n",
    "print(\"Fritz can't make it!\")\n",
    "guestList.pop(2)\n",
    "guestList.insert(1, 'John')\n",
    "print(f\"Hello {guestList[0]}, would you like to go to dinner?\")\n",
    "print(f\"Hello {guestList[1]}, would you like to go to dinner?\")\n",
    "print(f\"Hello {guestList[2]}, would you like to go to dinner?\")"
   ]
  },
  {
   "cell_type": "code",
   "execution_count": 6,
   "metadata": {},
   "outputs": [
    {
     "name": "stdout",
     "output_type": "stream",
     "text": [
      "We've found a larger table!\n"
     ]
    }
   ],
   "source": [
    "# 3.6 \n",
    "\n",
    "print(\"We've found a larger table!\")\n",
    "guestList.insert(0, 'Ringo')\n",
    "guestList.insert(3, 'Jack')\n",
    "guestList.append('Obama')\n"
   ]
  },
  {
   "cell_type": "code",
   "execution_count": 7,
   "metadata": {},
   "outputs": [
    {
     "name": "stdout",
     "output_type": "stream",
     "text": [
      "A change in seating means that only two can attend dinner!\n",
      "April is still invited!\n",
      "Breanna is still invited!\n"
     ]
    }
   ],
   "source": [
    "# 3.7 \n",
    "\n",
    "print(\"A change in seating means that only two can attend dinner!\")\n",
    "guestList.pop(0)\n",
    "guestList.pop(2)\n",
    "guestList.pop(3)\n",
    "guestList.pop(1)\n",
    "\n",
    "print(f\"{guestList[0]} is still invited!\")\n",
    "print(f\"{guestList[1]} is still invited!\")"
   ]
  },
  {
   "cell_type": "code",
   "execution_count": 8,
   "metadata": {},
   "outputs": [
    {
     "name": "stdout",
     "output_type": "stream",
     "text": [
      "['Berlin', 'Sweden', 'Norway', 'Dubai', 'Ethiopia']\n",
      "\n",
      "Sort: ['Berlin', 'Dubai', 'Ethiopia', 'Norway', 'Sweden']\n",
      "Original: ['Berlin', 'Sweden', 'Norway', 'Dubai', 'Ethiopia']\n",
      "\n",
      "Reverse Sort: ['Sweden', 'Norway', 'Ethiopia', 'Dubai', 'Berlin']\n",
      "Original: ['Berlin', 'Sweden', 'Norway', 'Dubai', 'Ethiopia']\n",
      "\n",
      "Reversed: ['Ethiopia', 'Dubai', 'Norway', 'Sweden', 'Berlin']\n",
      "Reversed To Original: ['Berlin', 'Sweden', 'Norway', 'Dubai', 'Ethiopia']\n",
      "\n",
      "Alphabetical: ['Berlin', 'Dubai', 'Ethiopia', 'Norway', 'Sweden']\n",
      "\n",
      "Reverse Alphabetical: ['Sweden', 'Norway', 'Ethiopia', 'Dubai', 'Berlin']\n"
     ]
    }
   ],
   "source": [
    "# 3.8 \n",
    "\n",
    "places = ['Berlin', 'Sweden', 'Norway', 'Dubai', 'Ethiopia']\n",
    "print(f\"{places}\")\n",
    "\n",
    "print(f\"\\nSort: {sorted(places, reverse=False)}\")\n",
    "\n",
    "print(f\"Original: {places}\")\n",
    "\n",
    "print(f\"\\nReverse Sort: {sorted(places, reverse=True)}\")\n",
    "\n",
    "print(f\"Original: {places}\")\n",
    "\n",
    "places.reverse()\n",
    "print(f\"\\nReversed: \"  + str(places))\n",
    "\n",
    "places.reverse()\n",
    "print(f\"Reversed To Original: \" + str(places)) \n",
    "\n",
    "places_sort = places.sort() \n",
    "print(f\"\\nAlphabetical: \" + str(places))\n",
    "\n",
    "places_sort = places.sort(reverse=True)\n",
    "print(f\"\\nReverse Alphabetical: \" + str(places))"
   ]
  },
  {
   "cell_type": "code",
   "execution_count": 9,
   "metadata": {},
   "outputs": [
    {
     "name": "stdout",
     "output_type": "stream",
     "text": [
      "Hello April, would you like to go to dinner?\n",
      "Hello Breanna, would you like to go to dinner?\n",
      "Hello Fritz, would you like to go to dinner?\n",
      "3 people are invited to dinner!\n"
     ]
    }
   ],
   "source": [
    "# 3.9 \n",
    "\n",
    "guestList = ['April', 'Breanna', 'Fritz']\n",
    "print(f\"Hello {guestList[0]}, would you like to go to dinner?\")\n",
    "print(f\"Hello {guestList[1]}, would you like to go to dinner?\")\n",
    "print(f\"Hello {guestList[2]}, would you like to go to dinner?\")\n",
    "\n",
    "length = len(guestList)\n",
    "print (f\"{length} people are invited to dinner!\")"
   ]
  },
  {
   "cell_type": "code",
   "execution_count": 10,
   "metadata": {},
   "outputs": [
    {
     "name": "stdout",
     "output_type": "stream",
     "text": [
      "['English', 'Spanish', 'French', 'Latin']\n",
      "['Greek', 'English', 'Spanish', 'French', 'Latin']\n",
      "['English', 'Spanish', 'French', 'Latin']\n",
      "['English', 'Spanish', 'French']\n",
      "['Spanish', 'French']\n",
      "['French', 'Spanish']\n",
      "['French', 'Spanish']\n",
      "['French', 'Spanish']\n"
     ]
    }
   ],
   "source": [
    "# 3.10 \n",
    "\n",
    "languages = ['English', 'Spanish', 'French']\n",
    "\n",
    "# append\n",
    "languages.append('Latin')\n",
    "print(languages) \n",
    "\n",
    "# insert\n",
    "languages.insert(0, 'Greek')\n",
    "print(languages) \n",
    "\n",
    "# del\n",
    "del languages[0]\n",
    "print(languages)\n",
    "\n",
    "# pop\n",
    "popped_languages = languages.pop()\n",
    "print(languages)\n",
    "\n",
    "# remove\n",
    "removed_languages = languages.remove('English')\n",
    "print(languages)\n",
    "\n",
    "# sort\n",
    "print(sorted(languages))\n",
    "\n",
    "# reverse \n",
    "languages.reverse()\n",
    "print(str(languages)) \n",
    "\n",
    "# sorted\n",
    "sorted(languages)\n",
    "print(languages)\n"
   ]
  },
  {
   "cell_type": "code",
   "execution_count": 11,
   "metadata": {},
   "outputs": [
    {
     "name": "stdout",
     "output_type": "stream",
     "text": [
      "Out of range.\n",
      "\tEnglish\n",
      "\tSpanish\n",
      "\tFrench\n"
     ]
    }
   ],
   "source": [
    "# 3.11\n",
    "\n",
    "try: \n",
    "    languages = ['English', 'Spanish', 'French']\n",
    "    print(languages[3])\n",
    "except:\n",
    "    print(\"Out of range.\")    \n",
    "\n",
    "for lang in languages:\n",
    "    print(\"\\t\" + lang) "
   ]
  }
 ],
 "metadata": {
  "kernelspec": {
   "display_name": "Python 3",
   "language": "python",
   "name": "python3"
  },
  "language_info": {
   "codemirror_mode": {
    "name": "ipython",
    "version": 3
   },
   "file_extension": ".py",
   "mimetype": "text/x-python",
   "name": "python",
   "nbconvert_exporter": "python",
   "pygments_lexer": "ipython3",
   "version": "3.12.2"
  }
 },
 "nbformat": 4,
 "nbformat_minor": 2
}
