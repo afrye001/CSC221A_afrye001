{
  "nbformat": 4,
  "nbformat_minor": 0,
  "metadata": {
    "colab": {
      "provenance": [],
      "authorship_tag": "ABX9TyMCb6QSWvzEqQEUiq36QGnx",
      "include_colab_link": true
    },
    "kernelspec": {
      "name": "python3",
      "display_name": "Python 3"
    },
    "language_info": {
      "name": "python"
    }
  },
  "cells": [
    {
      "cell_type": "markdown",
      "metadata": {
        "id": "view-in-github",
        "colab_type": "text"
      },
      "source": [
        "<a href=\"https://colab.research.google.com/github/afrye001/CSC221A_afrye001/blob/main/Assignment7.ipynb\" target=\"_parent\"><img src=\"https://colab.research.google.com/assets/colab-badge.svg\" alt=\"Open In Colab\"/></a>"
      ]
    },
    {
      "cell_type": "code",
      "source": [
        "%%writefile dictionary.txt\n",
        "\n",
        "Joey, 78\n",
        "Alex, 89\n",
        "Zach, 87\n",
        "April, 94\n",
        "Breanna, 96\n",
        "Fritz, 95\n",
        "Derek, 76\n"
      ],
      "metadata": {
        "colab": {
          "base_uri": "https://localhost:8080/"
        },
        "id": "QyCjWqNgfPvi",
        "outputId": "1f0f647b-ebcd-4bc0-ec26-e9bda4938b9d"
      },
      "execution_count": 8,
      "outputs": [
        {
          "output_type": "stream",
          "name": "stdout",
          "text": [
            "Overwriting dictionary.txt\n"
          ]
        }
      ]
    },
    {
      "cell_type": "code",
      "source": [
        "## for every name in dictionary, create a key\n",
        "    ## split name from value\n",
        "## for every grade in dictionary, create a value\n",
        "## assign name and grade to my_dict\n",
        "\n",
        "my_dict = {}\n",
        "\n",
        "file = open(\"dictionary.txt\", \"r\")\n",
        "\n",
        "for line in file:\n",
        "  pair = line.split()\n",
        "  if len(pair) == 2:\n",
        "    name, grade = pair\n",
        "    my_dict[name] = grade\n",
        "\n",
        "sorted_names = dict(sorted(my_dict.items()))\n",
        "print(sorted_names)\n",
        "\n",
        "sorted_grades = sorted(my_dict.values(), reverse=True)\n",
        "print(sorted_grades)\n",
        "\n",
        "file.close()\n",
        "\n",
        "\n",
        "\n",
        "\n"
      ],
      "metadata": {
        "colab": {
          "base_uri": "https://localhost:8080/"
        },
        "id": "VeUzPqtmf7H4",
        "outputId": "bbdb8156-544f-4202-bf2a-eab2a126c73d"
      },
      "execution_count": 9,
      "outputs": [
        {
          "output_type": "stream",
          "name": "stdout",
          "text": [
            "{'Alex,': '89', 'April,': '94', 'Breanna,': '96', 'Derek,': '76', 'Fritz,': '95', 'Joey,': '78', 'Zach,': '87'}\n",
            "['96', '95', '94', '89', '87', '78', '76']\n"
          ]
        }
      ]
    }
  ]
}