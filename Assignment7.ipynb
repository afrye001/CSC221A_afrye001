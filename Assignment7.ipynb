{
 "cells": [
  {
   "cell_type": "code",
   "execution_count": 1,
   "metadata": {},
   "outputs": [
    {
     "name": "stdout",
     "output_type": "stream",
     "text": [
      "John\n",
      "Smith\n",
      "20\n",
      "FooTown\n"
     ]
    }
   ],
   "source": [
    "# 6.1\n",
    "\n",
    "person = { \n",
    "    'first_name': 'John', \n",
    "    'last_name': 'Smith',\n",
    "    'age': '20', \n",
    "    'city': 'FooTown',\n",
    "}\n",
    "\n",
    "print(person['first_name']) \n",
    "print(person['last_name'])\n",
    "print(person['age'])\n",
    "print(person['city'])"
   ]
  },
  {
   "cell_type": "code",
   "execution_count": 2,
   "metadata": {},
   "outputs": [
    {
     "name": "stdout",
     "output_type": "stream",
     "text": [
      "Joey's favorite number is: 4\n",
      "Alex's favorite number is: 10\n",
      "Zach's favorite number is: 20\n",
      "April's favorite number is: 18\n",
      "Breanna's favorite number is: 7\n"
     ]
    }
   ],
   "source": [
    "# 6.2 \n",
    "\n",
    "favorite_numbers = {\n",
    "    'Joey': '4',\n",
    "    'Alex': '10',\n",
    "    'Zach': '20',\n",
    "    'April': '18',\n",
    "    'Breanna': '7',\n",
    "}\n",
    "\n",
    "print(f\"Joey's favorite number is: {favorite_numbers['Joey']}\")\n",
    "print(f\"Alex's favorite number is: {favorite_numbers['Alex']}\")\n",
    "print(f\"Zach's favorite number is: {favorite_numbers['Zach']}\")\n",
    "print(f\"April's favorite number is: {favorite_numbers['April']}\")\n",
    "print(f\"Breanna's favorite number is: {favorite_numbers['Breanna']}\")\n",
    "\n"
   ]
  },
  {
   "cell_type": "code",
   "execution_count": 3,
   "metadata": {},
   "outputs": [
    {
     "name": "stdout",
     "output_type": "stream",
     "text": [
      "In Python, the word 'if' means: act on a condition\n",
      "In Python, the word 'else' means: in case where condition is not true, do something else\n",
      "In Python, the word 'while' means: while something is true or false, do something\n",
      "In Python, the word 'for' means: iterate along a list of data\n",
      "In Python, the word 'and' means: include another condition where something is either true or false\n"
     ]
    }
   ],
   "source": [
    "# 6.3\n",
    "\n",
    "python_words = { \n",
    "    'if': 'act on a condition',\n",
    "    'else': 'in case where condition is not true, do something else',\n",
    "    'while': 'while something is true or false, do something',\n",
    "    'for': 'iterate along a list of data',\n",
    "    'and': 'include another condition where something is either true or false',\n",
    "}\n",
    "\n",
    "print(f\"In Python, the word 'if' means: {python_words['if']}\")\n",
    "print(f\"In Python, the word 'else' means: {python_words['else']}\")\n",
    "print(f\"In Python, the word 'while' means: {python_words['while']}\")\n",
    "print(f\"In Python, the word 'for' means: {python_words['for']}\")\n",
    "print(f\"In Python, the word 'and' means: {python_words['and']}\")"
   ]
  },
  {
   "cell_type": "code",
   "execution_count": 4,
   "metadata": {},
   "outputs": [
    {
     "name": "stdout",
     "output_type": "stream",
     "text": [
      "if: act on a condition\n",
      "else: in case where condition is not true, do something else\n",
      "while: while something is true or false, do something\n",
      "for: iterate along a list of data\n",
      "and: include another condition where something is either true or false\n"
     ]
    }
   ],
   "source": [
    "# 6.4\n",
    "\n",
    "python_words = { \n",
    "    'if': 'act on a condition',\n",
    "    'else': 'in case where condition is not true, do something else',\n",
    "    'while': 'while something is true or false, do something',\n",
    "    'for': 'iterate along a list of data',\n",
    "    'and': 'include another condition where something is either true or false',\n",
    "}\n",
    "\n",
    "for key, value in python_words.items():\n",
    "    print(f\"{key}: {value}\")\n",
    "\n"
   ]
  },
  {
   "cell_type": "code",
   "execution_count": 5,
   "metadata": {},
   "outputs": [
    {
     "name": "stdout",
     "output_type": "stream",
     "text": [
      "New York City\n",
      "\t country: United States\n",
      "\t population: 8,335,897\n",
      "\t fact: The NYC metro is one of the oldest public metro systems in the world.\n",
      "London\n",
      "\t country: United Kingdom\n",
      "\t population: 8,799,800\n",
      "\t fact: The world's oldest under ground system, The Tube, was opened in 1863.\n",
      "Rome\n",
      "\t country: Italy\n",
      "\t population: 2,860,009\n",
      "\t fact: Home to La Sapienza University, founded in 1303\n"
     ]
    }
   ],
   "source": [
    "# 6.11 \n",
    "\n",
    "cities = {\n",
    "    'New York City': {\n",
    "        'country': 'United States',\n",
    "        'population': '8,335,897',\n",
    "        'fact': 'The NYC metro is one of the oldest public metro systems in the world.',\n",
    "    },\n",
    "    'London': { \n",
    "        'country': 'United Kingdom',\n",
    "        'population': '8,799,800',\n",
    "        'fact': \"The world's oldest under ground system, The Tube, was opened in 1863.\", \n",
    "    },\n",
    "    'Rome': {\n",
    "        'country': 'Italy',\n",
    "        'population': '2,860,009',\n",
    "        'fact': 'Home to La Sapienza University, founded in 1303',\n",
    "    }, \n",
    "}\n",
    "\n",
    "for keys_outer, dict_inner in cities.items():\n",
    "    print(keys_outer)\n",
    "    for keys_inner, fact in dict_inner.items():\n",
    "        print(\"\\t\", keys_inner + \":\", fact)\n",
    "\n",
    "\n"
   ]
  },
  {
   "cell_type": "code",
   "execution_count": 6,
   "metadata": {},
   "outputs": [
    {
     "name": "stdout",
     "output_type": "stream",
     "text": [
      "Writing dictionary.txt\n"
     ]
    }
   ],
   "source": [
    "\n",
    "%%writefile dictionary.txt\n",
    "\n",
    "Joey, 78\n",
    "Alex, 89\n",
    "Zach, 87\n",
    "April, 94\n",
    "Breanna, 96\n",
    "Fritz, 95\n",
    "Derek, 76\n"
   ]
  },
  {
   "cell_type": "code",
   "execution_count": 7,
   "metadata": {},
   "outputs": [
    {
     "name": "stdout",
     "output_type": "stream",
     "text": [
      "{'Alex,': '89', 'April,': '94', 'Breanna,': '96', 'Derek,': '76', 'Fritz,': '95', 'Joey,': '78', 'Zach,': '87'}\n",
      "['96', '95', '94', '89', '87', '78', '76']\n"
     ]
    }
   ],
   "source": [
    "## for every name in dictionary, create a key\n",
    "    ## split name from value\n",
    "## for every grade in dictionary, create a value\n",
    "## assign name and grade to my_dict\n",
    "\n",
    "my_dict = {}\n",
    "\n",
    "file = open(\"dictionary.txt\", \"r\")\n",
    "\n",
    "for line in file:\n",
    "  pair = line.split()\n",
    "  if len(pair) == 2:\n",
    "    name, grade = pair\n",
    "    my_dict[name] = grade\n",
    "\n",
    "sorted_names = dict(sorted(my_dict.items()))\n",
    "print(sorted_names)\n",
    "\n",
    "sorted_grades = sorted(my_dict.values(), reverse=True)\n",
    "print(sorted_grades)\n",
    "\n",
    "file.close()\n"
   ]
  }
 ],
 "metadata": {
  "kernelspec": {
   "display_name": "Python 3",
   "language": "python",
   "name": "python3"
  },
  "language_info": {
   "codemirror_mode": {
    "name": "ipython",
    "version": 3
   },
   "file_extension": ".py",
   "mimetype": "text/x-python",
   "name": "python",
   "nbconvert_exporter": "python",
   "pygments_lexer": "ipython3",
   "version": "3.12.2"
  }
 },
 "nbformat": 4,
 "nbformat_minor": 2
}
  "nbformat": 4,
  "nbformat_minor": 0,
  "metadata": {
    "colab": {
      "provenance": [],
      "authorship_tag": "ABX9TyMCb6QSWvzEqQEUiq36QGnx",
      "include_colab_link": true
    },
    "kernelspec": {
      "name": "python3",
      "display_name": "Python 3"
    },
    "language_info": {
      "name": "python"
    }
  },
  "cells": [
    {
      "cell_type": "markdown",
      "metadata": {
        "id": "view-in-github",
        "colab_type": "text"
      },
      "source": [
        "<a href=\"https://colab.research.google.com/github/afrye001/CSC221A_afrye001/blob/main/Assignment7.ipynb\" target=\"_parent\"><img src=\"https://colab.research.google.com/assets/colab-badge.svg\" alt=\"Open In Colab\"/></a>"
      ]
    },
    {
      "cell_type": "code",
      "source": [
        "%%writefile dictionary.txt\n",
        "\n",
        "Joey, 78\n",
        "Alex, 89\n",
        "Zach, 87\n",
        "April, 94\n",
        "Breanna, 96\n",
        "Fritz, 95\n",
        "Derek, 76\n"
      ],
      "metadata": {
        "colab": {
          "base_uri": "https://localhost:8080/"
        },
        "id": "QyCjWqNgfPvi",
        "outputId": "1f0f647b-ebcd-4bc0-ec26-e9bda4938b9d"
      },
      "execution_count": 8,
      "outputs": [
        {
          "output_type": "stream",
          "name": "stdout",
          "text": [
            "Overwriting dictionary.txt\n"
          ]
        }
      ]
    },
    {
      "cell_type": "code",
      "source": [
        "## for every name in dictionary, create a key\n",
        "    ## split name from value\n",
        "## for every grade in dictionary, create a value\n",
        "## assign name and grade to my_dict\n",
        "\n",
        "my_dict = {}\n",
        "\n",
        "file = open(\"dictionary.txt\", \"r\")\n",
        "\n",
        "for line in file:\n",
        "  pair = line.split()\n",
        "  if len(pair) == 2:\n",
        "    name, grade = pair\n",
        "    my_dict[name] = grade\n",
        "\n",
        "sorted_names = dict(sorted(my_dict.items()))\n",
        "print(sorted_names)\n",
        "\n",
        "sorted_grades = sorted(my_dict.values(), reverse=True)\n",
        "print(sorted_grades)\n",
        "\n",
        "file.close()\n",
        "\n",
        "\n",
        "\n",
        "\n"
      ],
      "metadata": {
        "colab": {
          "base_uri": "https://localhost:8080/"
        },
        "id": "VeUzPqtmf7H4",
        "outputId": "bbdb8156-544f-4202-bf2a-eab2a126c73d"
      },
      "execution_count": 9,
      "outputs": [
        {
          "output_type": "stream",
          "name": "stdout",
          "text": [
            "{'Alex,': '89', 'April,': '94', 'Breanna,': '96', 'Derek,': '76', 'Fritz,': '95', 'Joey,': '78', 'Zach,': '87'}\n",
            "['96', '95', '94', '89', '87', '78', '76']\n"
          ]
        }
      ]
    }
  ]
}
