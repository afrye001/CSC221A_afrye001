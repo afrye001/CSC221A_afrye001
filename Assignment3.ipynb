{
  "cells": [
    {
      "cell_type": "markdown",
      "metadata": {
        "colab_type": "text",
        "id": "view-in-github"
      },
      "source": [
        "<a href=\"https://colab.research.google.com/github/afrye001/CSC221A_afrye001/blob/main/Assignment3.ipynb\" target=\"_parent\"><img src=\"https://colab.research.google.com/assets/colab-badge.svg\" alt=\"Open In Colab\"/></a>"
      ]
    },
    {
      "cell_type": "code",
      "execution_count": 1,
      "metadata": {
        "colab": {
          "base_uri": "https://localhost:8080/"
        },
        "id": "TuY8aObKm1zX",
        "outputId": "bd9c3070-e261-4609-b121-63fc20f1b936"
      },
      "outputs": [
        {
          "name": "stdout",
          "output_type": "stream",
          "text": [
            "Hello, World!\n"
          ]
        }
      ],
      "source": [
        "# 2.1 \n",
        "\n",
        "msg0 = (\"Hello, World!\")\n",
        "print(msg0)"
      ]
    },
    {
      "cell_type": "code",
      "execution_count": 2,
      "metadata": {},
      "outputs": [
        {
          "name": "stdout",
          "output_type": "stream",
          "text": [
            "Goodbye, World!\n",
            "Hello again, World!\n"
          ]
        }
      ],
      "source": [
        "# 2.2\n",
        "\n",
        "msg1 = (\"Goodbye, World!\")\n",
        "print(msg1)\n",
        "msg1 = (\"Hello again, World!\")\n",
        "print(msg1)"
      ]
    },
    {
      "cell_type": "code",
      "execution_count": 3,
      "metadata": {
        "colab": {
          "base_uri": "https://localhost:8080/"
        },
        "id": "7f7b7o2InlfO",
        "outputId": "62a4c939-a10e-4abc-cb59-773b2d9c3e72"
      },
      "outputs": [
        {
          "name": "stdout",
          "output_type": "stream",
          "text": [
            "Hello John, would you like to learn some Python today?\n"
          ]
        }
      ],
      "source": [
        "# 2.3 - 2.8\n",
        "\n",
        "name = (\"John\")\n",
        "print(f\"Hello {name}, would you like to learn some Python today?\")"
      ]
    },
    {
      "cell_type": "code",
      "execution_count": 4,
      "metadata": {},
      "outputs": [
        {
          "name": "stdout",
          "output_type": "stream",
          "text": [
            "Bob\n",
            "bob\n",
            "BOB\n"
          ]
        }
      ],
      "source": [
        "# 2.4\n",
        " \n",
        "name = (\"Bob\")\n",
        "print(name.title())\n",
        "print(name.lower())\n",
        "print(name.upper()) "
      ]
    },
    {
      "cell_type": "code",
      "execution_count": 5,
      "metadata": {},
      "outputs": [
        {
          "name": "stdout",
          "output_type": "stream",
          "text": [
            "Confucius once said, \"Our greatest glory is not in never falling, but in rising every time we fall.\"\n"
          ]
        }
      ],
      "source": [
        "# 2.5\n",
        "\n",
        "print('Confucius once said, \"Our greatest glory is not in never falling, but in rising every time we fall.\"')"
      ]
    },
    {
      "cell_type": "code",
      "execution_count": 6,
      "metadata": {},
      "outputs": [
        {
          "name": "stdout",
          "output_type": "stream",
          "text": [
            "Confucius once said, \"Our greatest glory is not in never falling, but in rising every time we fall.\"\n"
          ]
        }
      ],
      "source": [
        "# 2.6 \n",
        "\n",
        "famous_person = ('Confucius')\n",
        "message = ('\"Our greatest glory is not in never falling, but in rising every time we fall.\"')\n",
        "print(f'{famous_person} once said, {message}')"
      ]
    },
    {
      "cell_type": "code",
      "execution_count": 7,
      "metadata": {},
      "outputs": [
        {
          "name": "stdout",
          "output_type": "stream",
          "text": [
            "\t Joe\n",
            "\n",
            "Joe\n",
            "Joe\n",
            "Joe\n"
          ]
        }
      ],
      "source": [
        "# 2.7\n",
        "\n",
        "name = (\"Joe\")\n",
        "print(f\"\\t {name}\\n\")\n",
        "print(name.lstrip())\n",
        "print(name.rstrip())\n",
        "print(name.strip())"
      ]
    },
    {
      "cell_type": "code",
      "execution_count": 8,
      "metadata": {},
      "outputs": [
        {
          "name": "stdout",
          "output_type": "stream",
          "text": [
            "python_notes\n"
          ]
        }
      ],
      "source": [
        "# 2.8 \n",
        "\n",
        "filename = 'python_notes.txt'\n",
        "print(filename.removesuffix('.txt'))"
      ]
    },
    {
      "cell_type": "code",
      "execution_count": 9,
      "metadata": {
        "colab": {
          "base_uri": "https://localhost:8080/"
        },
        "id": "mPwQKLqUud8Y",
        "outputId": "8417df49-930b-48e3-f6f3-ea6e9466cd42"
      },
      "outputs": [
        {
          "name": "stdout",
          "output_type": "stream",
          "text": [
            "8\n",
            "8\n",
            "8\n",
            "8\n",
            "My favorite number is 8!\n"
          ]
        }
      ],
      "source": [
        "# 2.9 - 2.10\n",
        "\n",
        "print(6+2)\n",
        "print(13-5)\n",
        "print(4*2)\n",
        "print(int(56/7))\n",
        "\n",
        "favorite_num = 8\n",
        "fav_num_message = (f\"My favorite number is {favorite_num}\")\n",
        "print(f\"{fav_num_message}!\")\n"
      ]
    },
    {
      "cell_type": "code",
      "execution_count": 10,
      "metadata": {},
      "outputs": [
        {
          "name": "stdout",
          "output_type": "stream",
          "text": [
            "My favorite number is 8!\n"
          ]
        }
      ],
      "source": [
        "# 2.10\n",
        "\n",
        "favorite_num = 8\n",
        "fav_num_message = (f\"My favorite number is {favorite_num}\")\n",
        "print(f\"{fav_num_message}!\")"
      ]
    },
    {
      "cell_type": "code",
      "execution_count": 11,
      "metadata": {
        "id": "JMTtcyLSvqMZ"
      },
      "outputs": [],
      "source": [
        "## 2.11\n",
        "\n",
        "## AJ Frye / 2/1/24 ##\n",
        "\n",
        "\n",
        "## declare a name and print it in upper, lower, and title case ##\n",
        "\n",
        "# name = (\"Bob\")\n",
        "# print(name.title())\n",
        "# print(name.lower())\n",
        "# print(name.upper())\n",
        "\n",
        "## declare favorite number, assign favorite number to declaration message, print favorite number ##\n",
        "\n",
        "# favorite_num = 8\n",
        "# fav_num_message = (f\"My favorite number is {favorite_num}\")\n",
        "# print(f\"{fav_num_message}!\")\n"
      ]
    },
    {
      "cell_type": "code",
      "execution_count": 12,
      "metadata": {
        "colab": {
          "base_uri": "https://localhost:8080/"
        },
        "id": "QlX2aA5LwpuU",
        "outputId": "77e1e84d-4361-4fa9-f033-5b24eba93fc4"
      },
      "outputs": [
        {
          "name": "stdout",
          "output_type": "stream",
          "text": [
            "The Zen of Python, by Tim Peters\n",
            "\n",
            "Beautiful is better than ugly.\n",
            "Explicit is better than implicit.\n",
            "Simple is better than complex.\n",
            "Complex is better than complicated.\n",
            "Flat is better than nested.\n",
            "Sparse is better than dense.\n",
            "Readability counts.\n",
            "Special cases aren't special enough to break the rules.\n",
            "Although practicality beats purity.\n",
            "Errors should never pass silently.\n",
            "Unless explicitly silenced.\n",
            "In the face of ambiguity, refuse the temptation to guess.\n",
            "There should be one-- and preferably only one --obvious way to do it.\n",
            "Although that way may not be obvious at first unless you're Dutch.\n",
            "Now is better than never.\n",
            "Although never is often better than *right* now.\n",
            "If the implementation is hard to explain, it's a bad idea.\n",
            "If the implementation is easy to explain, it may be a good idea.\n",
            "Namespaces are one honking great idea -- let's do more of those!\n"
          ]
        }
      ],
      "source": [
        "# 2.12\n",
        "\n",
        "import this"
      ]
    }
  ],
  "metadata": {
    "colab": {
      "authorship_tag": "ABX9TyN92my9cROi9ztVUDSxIEvg",
      "include_colab_link": true,
      "provenance": []
    },
    "kernelspec": {
      "display_name": "Python 3",
      "name": "python3"
    },
    "language_info": {
      "codemirror_mode": {
        "name": "ipython",
        "version": 3
      },
      "file_extension": ".py",
      "mimetype": "text/x-python",
      "name": "python",
      "nbconvert_exporter": "python",
      "pygments_lexer": "ipython3",
      "version": "3.12.2"
    }
  },
  "nbformat": 4,
  "nbformat_minor": 0
}
