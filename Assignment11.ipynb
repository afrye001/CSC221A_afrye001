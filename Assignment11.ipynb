{
 "cells": [
  {
   "cell_type": "code",
   "execution_count": 15,
   "metadata": {},
   "outputs": [
    {
     "name": "stdout",
     "output_type": "stream",
     "text": [
      "Name: Italia de Cibo\n",
      "Cuisine: Italian\n",
      "Italia de Cibo\n",
      "Italian\n",
      "Italia de Cibo is open!\n"
     ]
    }
   ],
   "source": [
    "## 9.1 \n",
    "\n",
    "class Restaurant: \n",
    "    def __init__(self, restaurant_name, cuisine_type): \n",
    "        self.restaurant_name = restaurant_name \n",
    "        self.cuisine_type = cuisine_type\n",
    "\n",
    "    def describe_restaurant(self): \n",
    "        print(f\"Name: {self.restaurant_name}\")\n",
    "        print(f\"Cuisine: {self.cuisine_type}\")\n",
    "\n",
    "    def open_restaurant(self): \n",
    "        print(f\"{self.restaurant_name} is open!\")\n",
    "\n",
    "restaurant = Restaurant(\"Italia de Cibo\", \"Italian\")\n",
    "print(\"Name:\", restaurant.restaurant_name)\n",
    "print(\"Cuisine:\", restaurant.cuisine_type) \n",
    "\n",
    "restaurant.describe_restaurant()\n",
    "restaurant.open_restaurant()\n"
   ]
  },
  {
   "cell_type": "code",
   "execution_count": 17,
   "metadata": {},
   "outputs": [
    {
     "name": "stdout",
     "output_type": "stream",
     "text": [
      "Name: Mark's Pizzaria\n",
      "Cuisine: Italian-American\n",
      "Name: John's Soul Food\n",
      "Cuisine: Soul-Food\n",
      "Name: Rising Sun Grill\n",
      "Cuisine: Japanese\n"
     ]
    }
   ],
   "source": [
    "# 9.2\n",
    "\n",
    "class Restaurant: \n",
    "    def __init__(self, restaurant_name, cuisine_type): \n",
    "        self.restaurant_name = restaurant_name \n",
    "        self.cuisine_type = cuisine_type\n",
    "\n",
    "    def describe_restaurant(self): \n",
    "        print(f\"Name: {self.restaurant_name}\")\n",
    "        print(f\"Cuisine: {self.cuisine_type}\")\n",
    "\n",
    "    def open_restaurant(self): \n",
    "        print(f\"{self.restaurant_name} is open!\")\n",
    "\n",
    "\n",
    "pizza = Restaurant(\"Mark's Pizzaria\", \"Italian-American\")\n",
    "soul_food = Restaurant(\"John's Soul Food\", \"Soul-Food\")\n",
    "sushi = Restaurant(\"Rising Sun Grill\", \"Japanese\") \n",
    "\n",
    "pizza.describe_restaurant()\n",
    "soul_food.describe_restaurant()\n",
    "sushi.describe_restaurant() "
   ]
  },
  {
   "cell_type": "code",
   "execution_count": 19,
   "metadata": {},
   "outputs": [],
   "source": [
    "# 9.3\n",
    "\n",
    "class User: \n",
    "    def __init__(self, first_name, last_name, age, logged_in=bool): \n",
    "        pass\n",
    "    def describe_user(self):\n",
    "        print(f\"First Name: {User.first_name}\")\n",
    "        print(f\"Last Name: {User.last_name}\")\n",
    "        print(f\"Age: {User.age}\") \n",
    "        print(f\"Logged In: {User.logged_in}\")\n",
    "\n",
    "\n",
    "\n"
   ]
  },
  {
   "cell_type": "code",
   "execution_count": null,
   "metadata": {},
   "outputs": [],
   "source": [
    "# 9.6"
   ]
  },
  {
   "cell_type": "code",
   "execution_count": null,
   "metadata": {},
   "outputs": [],
   "source": [
    "# 9.7"
   ]
  }
 ],
 "metadata": {
  "kernelspec": {
   "display_name": "Python 3",
   "language": "python",
   "name": "python3"
  },
  "language_info": {
   "codemirror_mode": {
    "name": "ipython",
    "version": 3
   },
   "file_extension": ".py",
   "mimetype": "text/x-python",
   "name": "python",
   "nbconvert_exporter": "python",
   "pygments_lexer": "ipython3",
   "version": "3.12.2"
  }
 },
 "nbformat": 4,
 "nbformat_minor": 2
}
