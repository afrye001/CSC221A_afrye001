{
 "cells": [
  {
   "cell_type": "code",
   "execution_count": null,
   "metadata": {},
   "outputs": [],
   "source": [
    "## 9.1 \n",
    "\n",
    "class Restaurant: \n",
    "    def __init__(self, restaurant_name, cuisine_type): \n",
    "        self.restaurant_name = restaurant_name \n",
    "        self.cuisine_type = cuisine_type\n",
    "\n",
    "    def describe_restaurant(self): \n",
    "        print(f\"Name: {self.restaurant_name}\")\n",
    "        print(f\"Cuisine: {self.cuisine_type}\")\n",
    "\n",
    "    def open_restaurant(self): \n",
    "        print(f\"{self.restaurant_name} is open!\")\n",
    "\n",
    "restaurant = Restaurant(\"Italia de Cibo\", \"Italian\")\n",
    "print(\"Name:\", restaurant.restaurant_name)\n",
    "print(\"Cuisine:\", restaurant.cuisine_type) \n",
    "\n",
    "restaurant.describe_restaurant()\n",
    "restaurant.open_restaurant()\n"
   ]
  },
  {
   "cell_type": "code",
   "execution_count": null,
   "metadata": {},
   "outputs": [],
   "source": [
    "# 9.2\n",
    "\n",
    "class Restaurant: \n",
    "    def __init__(self, restaurant_name, cuisine_type): \n",
    "        self.restaurant_name = restaurant_name \n",
    "        self.cuisine_type = cuisine_type\n",
    "\n",
    "    def describe_restaurant(self): \n",
    "        print(f\"Name: {self.restaurant_name}\")\n",
    "        print(f\"Cuisine: {self.cuisine_type}\")\n",
    "\n",
    "    def open_restaurant(self): \n",
    "        print(f\"{self.restaurant_name} is open!\")\n",
    "\n",
    "\n",
    "pizza = Restaurant(\"Mark's Pizzaria\", \"Italian-American\")\n",
    "soul_food = Restaurant(\"John's Soul Food\", \"Soul-Food\")\n",
    "sushi = Restaurant(\"Rising Sun Grill\", \"Japanese\") \n",
    "\n",
    "pizza.describe_restaurant()\n",
    "soul_food.describe_restaurant()\n",
    "sushi.describe_restaurant() "
   ]
  },
  {
   "cell_type": "code",
   "execution_count": null,
   "metadata": {},
   "outputs": [],
   "source": [
    "# 9.3\n",
    "\n",
    "class User: \n",
    "    def __init__(self, first_name, last_name, age, logged_in=False):\n",
    "        self.first_name = first_name\n",
    "        self.last_name = last_name\n",
    "        self.age = age\n",
    "        self.logged_in = logged_in\n",
    "    \n",
    "    def describe_user(self):\n",
    "        print(f\"First Name: {self.first_name}\")\n",
    "        print(f\"Last Name: {self.last_name}\")\n",
    "        print(f\"Age: {self.age}\") \n",
    "        print(f\"Logged In: {self.logged_in}\")\n",
    "\n",
    "    def greet_user(self): \n",
    "        print(f\"Hello {self.first_name}, you are {self.age} years old.\")\n",
    "\n",
    "user_1 = User(\"John\", \"Doe\", 30)  \n",
    "user_2 = User(\"Jane\", \"Doe\", 30)\n",
    "\n",
    "user_1.greet_user() \n",
    "user_2.greet_user()\n"
   ]
  },
  {
   "cell_type": "code",
   "execution_count": null,
   "metadata": {},
   "outputs": [],
   "source": [
    "# 9.6\n",
    "\n",
    "class Restaurant:\n",
    "    def __init__(self, name, cuisine_type):\n",
    "        self.name = name\n",
    "        self.cuisine_type = cuisine_type\n",
    "\n",
    "    def describe_restaurant(self):\n",
    "        print(f\"Restaurant Name: {self.name}\")\n",
    "        print(f\"Cuisine Type: {self.cuisine_type}\")\n",
    "\n",
    "    def open_restaurant(self):\n",
    "        print(f\"{self.name} is now open!\")\n",
    "\n",
    "class IceCreamStand(Restaurant):\n",
    "    def __init__(self, name, cuisine_type):\n",
    "        super().__init__(name, cuisine_type)\n",
    "        self.flavors = ['vanilla', 'chocolate', 'rocky-road']\n",
    "\n",
    "    def display_flavors(self):\n",
    "        print(\"Available Ice Cream Flavors:\")\n",
    "        for flavor in self.flavors:\n",
    "            print(flavor)\n",
    "\n",
    "ice_cream_stand = IceCreamStand(\"Scoops\", \"Ice Cream Parlor\")\n",
    "\n",
    "ice_cream_stand.display_flavors()"
   ]
  },
  {
   "cell_type": "code",
   "execution_count": 21,
   "metadata": {},
   "outputs": [
    {
     "name": "stdout",
     "output_type": "stream",
     "text": [
      "The administrator can add post, can delete post, can ban user\n"
     ]
    }
   ],
   "source": [
    "# 9.7\n",
    "\n",
    "\n",
    "class User: \n",
    "    def __init__(self, first_name, last_name, age, logged_in=False):\n",
    "        self.first_name = first_name\n",
    "        self.last_name = last_name\n",
    "        self.age = age\n",
    "        self.logged_in = logged_in\n",
    "    \n",
    "    def describe_user(self):\n",
    "        print(f\"First Name: {self.first_name}\")\n",
    "        print(f\"Last Name: {self.last_name}\")\n",
    "        print(f\"Age: {self.age}\") \n",
    "        print(f\"Logged In: {self.logged_in}\")\n",
    "\n",
    "    def greet_user(self): \n",
    "        print(f\"Hello {self.first_name}, you are {self.age} years old.\")\n",
    "\n",
    "class Admin(User): \n",
    "    def __init__(self): \n",
    "        self.privileges = ['can add post', 'can delete post', 'can ban user']\n",
    "\n",
    "    def show_privileges(self):\n",
    "        print(f\"The Administrator {self.privileges[0]}, {self.privileges[1]}, {self.privileges[2]}\") \n",
    "\n",
    "admin_1 = Admin() \n",
    "admin_1.show_privileges()\n"
   ]
  }
 ],
 "metadata": {
  "kernelspec": {
   "display_name": "Python 3",
   "language": "python",
   "name": "python3"
  },
  "language_info": {
   "codemirror_mode": {
    "name": "ipython",
    "version": 3
   },
   "file_extension": ".py",
   "mimetype": "text/x-python",
   "name": "python",
   "nbconvert_exporter": "python",
   "pygments_lexer": "ipython3",
   "version": "3.12.3"
  }
 },
 "nbformat": 4,
 "nbformat_minor": 2
}
