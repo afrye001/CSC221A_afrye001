{
 "cells": [
  {
   "cell_type": "code",
   "execution_count": 143,
   "metadata": {},
   "outputs": [
    {
     "name": "stdout",
     "output_type": "stream",
     "text": [
      "\n",
      "I like pepperoni pizza\n",
      "\n",
      "I like hawaiian pizza\n",
      "\n",
      "I like meat-lovers pizza\n",
      "I really like pizza\n"
     ]
    }
   ],
   "source": [
    "# 4.1 \n",
    "\n",
    "pizza = ['pepperoni', 'hawaiian', 'meat-lovers']\n",
    "\n",
    "for x in pizza: \n",
    "    print(f\"\\nI like {x} pizza\")\n",
    "\n",
    "print(\"I really like pizza\")"
   ]
  },
  {
   "cell_type": "code",
   "execution_count": 144,
   "metadata": {},
   "outputs": [
    {
     "name": "stdout",
     "output_type": "stream",
     "text": [
      "dog\n",
      "A dog would make a great pet\n",
      "cat\n",
      "A cat would make a great pet\n",
      "ferret\n",
      "A ferret would make a great pet\n",
      "\n",
      "All of these animals are cute!\n"
     ]
    }
   ],
   "source": [
    "# 4.2\n",
    "\n",
    "animals = ['dog', 'cat', 'ferret']\n",
    "\n",
    "for x in animals:\n",
    "    print(f\"{x}\")\n",
    "    print(f\"A {x} would make a great pet\")\n",
    "\n",
    "print(\"\\nAll of these animals are cute!\")"
   ]
  },
  {
   "cell_type": "code",
   "execution_count": 145,
   "metadata": {},
   "outputs": [
    {
     "name": "stdout",
     "output_type": "stream",
     "text": [
      "1\n",
      "2\n",
      "3\n",
      "4\n",
      "5\n",
      "6\n",
      "7\n",
      "8\n",
      "9\n",
      "10\n",
      "11\n",
      "12\n",
      "13\n",
      "14\n",
      "15\n",
      "16\n",
      "17\n",
      "18\n",
      "19\n",
      "20\n"
     ]
    }
   ],
   "source": [
    "# 4.4 \n",
    "\n",
    "for x in range(1, 20 + 1): \n",
    "    print(x)\n",
    "\n",
    "million = [x for x in range(1, 1000000 + 1)]\n",
    "\n",
    "## This prints from one to one million, making the rest of the code hard to read, which is why it's commented.\n",
    "# print(million)\n"
   ]
  },
  {
   "cell_type": "code",
   "execution_count": 146,
   "metadata": {},
   "outputs": [
    {
     "name": "stdout",
     "output_type": "stream",
     "text": [
      "\n",
      "Sum: 500000500000\n",
      "Min: 1\n",
      "Max: 1000000\n"
     ]
    }
   ],
   "source": [
    "# 4.5\n",
    "\n",
    "million = [x for x in range(1, 1000000 + 1)]\n",
    "\n",
    "print(f\"\\nSum: {sum(million)}\")\n",
    "print(f\"Min: {min(million)}\")\n",
    "print(f\"Max: {max(million)}\")"
   ]
  },
  {
   "cell_type": "code",
   "execution_count": 147,
   "metadata": {},
   "outputs": [
    {
     "name": "stdout",
     "output_type": "stream",
     "text": [
      "[1, 3, 5, 7, 9, 11, 13, 15, 17, 19]\n"
     ]
    }
   ],
   "source": [
    "# 4.6 \n",
    "\n",
    "odd = [x for x in range(1, 20, 2)] \n",
    "print(odd)"
   ]
  },
  {
   "cell_type": "code",
   "execution_count": 148,
   "metadata": {},
   "outputs": [
    {
     "name": "stdout",
     "output_type": "stream",
     "text": [
      "[3, 6, 9, 12, 15, 18, 21, 24, 27]\n"
     ]
    }
   ],
   "source": [
    "# 4.7 \n",
    "\n",
    "multiples = [x for x in range(3, 30, 3)] \n",
    "print(multiples)"
   ]
  },
  {
   "cell_type": "code",
   "execution_count": 149,
   "metadata": {},
   "outputs": [
    {
     "name": "stdout",
     "output_type": "stream",
     "text": [
      "1\n",
      "8\n",
      "27\n",
      "64\n",
      "125\n",
      "216\n",
      "343\n",
      "512\n",
      "729\n",
      "1000\n"
     ]
    }
   ],
   "source": [
    "# 4.8 \n",
    "\n",
    "cubes = [1, 2, 3, 4, 5, 6, 7, 8, 9, 10]\n",
    "\n",
    "for x in cubes: \n",
    "    print(x ** 3) "
   ]
  },
  {
   "cell_type": "code",
   "execution_count": 150,
   "metadata": {},
   "outputs": [
    {
     "name": "stdout",
     "output_type": "stream",
     "text": [
      "1\n",
      "8\n",
      "27\n",
      "64\n",
      "125\n",
      "216\n",
      "343\n",
      "512\n",
      "729\n",
      "1000\n"
     ]
    }
   ],
   "source": [
    "# 4.9 \n",
    "\n",
    "cubes = [x for x in range(1, 10  + 1)]\n",
    "\n",
    "for x in cubes: \n",
    "    print(x ** 3)\n"
   ]
  },
  {
   "cell_type": "code",
   "execution_count": 151,
   "metadata": {},
   "outputs": [
    {
     "name": "stdout",
     "output_type": "stream",
     "text": [
      "[1, 2, 3, 4, 5, 6, 7, 8, 9, 10]\n",
      "The first three elements of list 'cubes' are [1, 2, 3]\n",
      "The middle three elements of list 'cubes' are [4, 5, 6]\n",
      "The last three items of list 'cubes' are [8, 9, 10]\n"
     ]
    }
   ],
   "source": [
    "# 4.10 \n",
    "\n",
    "cubes = [x for x in range(1, 10  + 1)]\n",
    "\n",
    "# for x in cubes: \n",
    "#    print(x ** 3)\n",
    "\n",
    "print(cubes) \n",
    "print(f\"The first three elements of list 'cubes' are {cubes[:3]}\")\n",
    "print(f\"The middle three elements of list 'cubes' are {cubes[3:6]}\")\n",
    "print(f\"The last three items of list 'cubes' are {cubes[7:10]}\")"
   ]
  },
  {
   "cell_type": "code",
   "execution_count": 152,
   "metadata": {},
   "outputs": [
    {
     "name": "stdout",
     "output_type": "stream",
     "text": [
      "My favorite pizzas are: pepperoni\n",
      "My favorite pizzas are: hawaiian\n",
      "My favorite pizzas are: meat-lovers\n",
      "My favorite pizzas are: new-york style\n",
      "My Friend's favorite pizzas are: pepperoni\n",
      "My Friend's favorite pizzas are: hawaiian\n",
      "My Friend's favorite pizzas are: meat-lovers\n",
      "My Friend's favorite pizzas are: veggie\n"
     ]
    }
   ],
   "source": [
    "# 4.11\n",
    "\n",
    "pizza = ['pepperoni', 'hawaiian', 'meat-lovers']\n",
    "pizza.append('new-york style')\n",
    "\n",
    "friend_pizza = ['pepperoni', 'hawaiian', 'meat-lovers',]\n",
    "friend_pizza.append('veggie')\n",
    "\n",
    "for x in pizza:\n",
    "    print(f\"My favorite pizzas are: {x}\")\n",
    "\n",
    "for x in friend_pizza: \n",
    "    print(f\"My Friend's favorite pizzas are: {x}\")"
   ]
  },
  {
   "cell_type": "code",
   "execution_count": 153,
   "metadata": {},
   "outputs": [
    {
     "name": "stdout",
     "output_type": "stream",
     "text": [
      "pizza\n",
      "falafel\n",
      "carrot cake\n",
      "pizza\n",
      "falafel\n",
      "carrot cake\n"
     ]
    }
   ],
   "source": [
    "# 4.12 \n",
    "\n",
    "my_foods = ['pizza', 'falafel', 'carrot cake']\n",
    "friend_foods = my_foods[:]\n",
    "\n",
    "for x in my_foods: \n",
    "    print(x)\n",
    "\n",
    "for x in friend_foods: \n",
    "    print(x)"
   ]
  },
  {
   "cell_type": "code",
   "execution_count": 154,
   "metadata": {},
   "outputs": [
    {
     "name": "stdout",
     "output_type": "stream",
     "text": [
      "\n",
      "Original Menu:\n",
      "salmon\n",
      "rice\n",
      "chicken\n",
      "peppers\n",
      "brocoli\n",
      "\n",
      "New Menu: \n",
      "steak\n",
      "rice\n",
      "chicken\n",
      "mushrooms\n",
      "brocoli\n"
     ]
    }
   ],
   "source": [
    "# 4.13 \n",
    "\n",
    "original_buffet = ['salmon', 'rice', 'chicken', 'peppers', 'brocoli']\n",
    "\n",
    "print(\"\\nOriginal Menu:\")\n",
    "for x in original_buffet: \n",
    "    print(x)\n",
    "\n",
    "# buffet_menu[0] = 'salad'  \n",
    "\n",
    "new_buffet = ['steak', 'rice', 'chicken', 'mushrooms', 'brocoli']\n",
    "\n",
    "print(\"\\nNew Menu: \")\n",
    "for x in new_buffet: \n",
    "    print(x) "
   ]
  },
  {
   "cell_type": "code",
   "execution_count": 155,
   "metadata": {},
   "outputs": [],
   "source": [
    "# 4.14\n",
    "\n",
    "# 4 spaces per tab \n",
    "# > 80 characters per line \n",
    "# No excessive blank lines"
   ]
  },
  {
   "cell_type": "code",
   "execution_count": 156,
   "metadata": {},
   "outputs": [
    {
     "name": "stdout",
     "output_type": "stream",
     "text": [
      "[3, 6, 9, 12, 15, 18, 21, 24, 27]\n",
      "1\n",
      "8\n",
      "27\n",
      "64\n",
      "125\n",
      "216\n",
      "343\n",
      "512\n",
      "729\n",
      "1000\n",
      "1\n",
      "8\n",
      "27\n",
      "64\n",
      "125\n",
      "216\n",
      "343\n",
      "512\n",
      "729\n",
      "1000\n"
     ]
    }
   ],
   "source": [
    "# 4.15 \n",
    "\n",
    "multiples = [x for x in range(3, 30, 3)] \n",
    "print(multiples)\n",
    "\n",
    "cubes = [1, 2, 3, 4, 5, 6, 7, 8, 9, 10]\n",
    "\n",
    "for x in cubes: \n",
    "    print(x ** 3) \n",
    "\n",
    "cubes = [x for x in range(1, 10  + 1)]\n",
    "\n",
    "for x in cubes: \n",
    "    print(x ** 3)"
   ]
  },
  {
   "cell_type": "code",
   "execution_count": 157,
   "metadata": {},
   "outputs": [
    {
     "name": "stdout",
     "output_type": "stream",
     "text": [
      "120\n",
      "3628800\n",
      "2432902008176640000\n",
      "30414093201713378043612608166064768844377641568960512000000000000\n",
      "30\n",
      "907200\n",
      "46786577080320000\n",
      "26585745805693512275885146998308364374455980392448000000000000\n"
     ]
    }
   ],
   "source": [
    "# Factorial Function \n",
    "\n",
    "def factorial(n):\n",
    "    my_list = [n for n in range(1, n+1)] \n",
    "    \n",
    "    product = 1\n",
    "    for num in my_list: \n",
    "        product = product * num \n",
    "       \n",
    "    print(product)\n",
    "\n",
    "factorial(5)\n",
    "factorial(10)\n",
    "factorial(20)\n",
    "factorial(50)\n",
    "\n",
    "# Exclude 4, 13, 22 from Factorial List\n",
    "\n",
    "def special_factorial(n):\n",
    "    my_list = [n for n in range(1, n+1)] \n",
    "\n",
    "    if 4 in my_list:\n",
    "        my_list.remove(4)\n",
    "    \n",
    "    if 13 in my_list: \n",
    "        my_list.remove(13)\n",
    "    \n",
    "    if 22 in my_list: \n",
    "        my_list.remove(22)\n",
    "\n",
    "    product = 1\n",
    "    for num in my_list: \n",
    "        product = product * num\n",
    "\n",
    "    print(product) \n",
    "\n",
    "special_factorial(5)\n",
    "special_factorial(10)\n",
    "special_factorial(20)\n",
    "special_factorial(50)\n",
    "\n"
   ]
  }
 ],
 "metadata": {
  "kernelspec": {
   "display_name": "Python 3",
   "language": "python",
   "name": "python3"
  },
  "language_info": {
   "codemirror_mode": {
    "name": "ipython",
    "version": 3
   },
   "file_extension": ".py",
   "mimetype": "text/x-python",
   "name": "python",
   "nbconvert_exporter": "python",
   "pygments_lexer": "ipython3",
   "version": "3.12.2"
  }
 },
 "nbformat": 4,
 "nbformat_minor": 2
}
