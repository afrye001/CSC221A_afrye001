{
 "cells": [
  {
   "cell_type": "code",
   "execution_count": null,
   "metadata": {},
   "outputs": [],
   "source": [
    "# String To Binary \n",
    "\n",
    "def string_to_binary(string = input()):\n",
    "\n",
    "    binary_string = ''.join(format(ord(char), '08b') for char in string)\n",
    "    \n",
    "    return binary_string\n",
    "\n",
    "string_to_binary() "
   ]
  },
  {
   "cell_type": "code",
   "execution_count": null,
   "metadata": {},
   "outputs": [],
   "source": [
    "# Count Vowels \n",
    "\n",
    "vowels = ['a', 'e', 'i', 'o', 'u'] \n",
    "vowel_count = 0\n",
    "\n",
    "def count_vowels(): \n",
    "    try: \n",
    "        user_word = input(\"Please provide a word: \")\n",
    "    except ValueError:\n",
    "        print(\"You did not provide a WORD.\")\n",
    "\n",
    "    for char in user_word: \n",
    "        if char.lower() in vowels: \n",
    "            vowel_count += 1\n",
    "            print(f\"There are {vowel_count} vowels in your word!\")\n",
    "        else:\n",
    "            print(\"No vowels detected.\")\n",
    " \n",
    "count_vowels()"
   ]
  },
  {
   "cell_type": "code",
   "execution_count": null,
   "metadata": {},
   "outputs": [],
   "source": [
    "# Palindrome\n",
    "\n",
    "def palindrome(string):  \n",
    "\n",
    "    string = string.lower() \n",
    "    string_backwards = string[::-1] \n",
    "\n",
    "    print(f\"{string_backwards}\")\n",
    "    \n",
    "    if string == string_backwards: \n",
    "        print(\"You have a palindrome!\")\n",
    "    else:\n",
    "        print(\"Your word is not a palindrome!\")\n",
    "\n",
    "palindrome('racecar')"
   ]
  },
  {
   "cell_type": "code",
   "execution_count": null,
   "metadata": {},
   "outputs": [],
   "source": [
    "# Calculate GPA\n",
    "\n",
    "def gpa_calc(classes, grades): \n",
    "    \n",
    "    grade_points = {'A': 4.0, \n",
    "    'B': 3.0, \n",
    "    'C': 2.0, \n",
    "    'D': 1.0, \n",
    "    'F': 0.0}\n",
    "    \n",
    "    total_credit_hours = sum(classes.values())\n",
    "    total_grade_points = sum(grade_points[grade] * credit_hours for grade, credit_hours in zip(grades, classes.values()))\n",
    "    if total_credit_hours == 0:\n",
    "        return 0.0\n",
    "    else:\n",
    "        return total_grade_points / total_credit_hours"
   ]
  },
  {
   "cell_type": "code",
   "execution_count": null,
   "metadata": {},
   "outputs": [],
   "source": [
    "# Fibonacci Sequence\n",
    "\n",
    "def fibonacci(num):\n",
    "    \n",
    "    val1 = 1 \n",
    "    val2 = 0\n",
    "\n",
    "    if (num < 3): \n",
    "        return \n",
    "    \n",
    "    fn = val_1 + val_2\n",
    "    val_2 = val_1\n",
    "    print(f\"{fn}\")\n",
    "    \n",
    "    return fibonacci(num - 1)\n",
    " \n",
    "fibonacci(2) "
   ]
  },
  {
   "cell_type": "code",
   "execution_count": null,
   "metadata": {},
   "outputs": [],
   "source": [
    "# pie chart\n",
    "\n",
    "import matplotlib.pyplot as plt\n",
    "\n",
    "## Takes data from the 2023 Stackoverflow Developer Survey \n",
    "\n",
    "def most_used_languages(): \n",
    "\n",
    "    '''Should create a pie chart of the most used languages taken from the 2023 Stackoverflow Developer Survey.'''\n",
    "    \n",
    "    languages = [\"JavaScript\", \"HTML/CSS\", \"Python\", \"SQL\", \"TypeScript\"] \n",
    "    \n",
    "    ## Percentages not represenatative of actual data; made to fit the pie chart. \n",
    "    percentages = [63, 52, 49, 48, 38]\n",
    "\n",
    "    fig, ax = plt.subplots() \n",
    "    ax.pie(percentages, languages = languages) \n",
    "\n"
   ]
  },
  {
   "cell_type": "code",
   "execution_count": 1,
   "metadata": {},
   "outputs": [],
   "source": [
    "# Get Random Wikipedia Article\n",
    "\n",
    "import wikipediaapi \n",
    "import random\n",
    "\n",
    "def get_random_wiki_article(): \n",
    "\n",
    "    wiki_wiki = wikipediaapi.Wikipedia('en')\n",
    "    rand_article = wiki_wiki.randompage() \n",
    "\n",
    "    return rand_article.title "
   ]
  },
  {
   "cell_type": "code",
   "execution_count": 24,
   "metadata": {},
   "outputs": [
    {
     "name": "stdout",
     "output_type": "stream",
     "text": [
      "9\n"
     ]
    }
   ],
   "source": [
    "# ISBN validator\n",
    "\n",
    "def isbn_validator(isbn):\n",
    "\n",
    "    ''' Validate the provided ISBN; returns False if unsatisfied; True if ISBN is valid.'''\n",
    "\n",
    "    example_isbn = ['978','-','3','-','16','-','148410','-','0']\n",
    "    example_isbn_count = len(example_isbn) \n",
    "\n",
    "    if len(isbn) != example_isbn_count:\n",
    "        print(\"The ISBN provided is of incorrect length; an ISBN should have 13 characters.\")\n",
    "        return False\n",
    "    \n",
    "    ints_in_isbn = sum(char.isdigit() for char in isbn)\n",
    "\n",
    "    if ints_in_isbn != 13: \n",
    "        print(\"There are not enough numbers in the ISBN. Please input 13 numbers.\")\n",
    "        return False\n",
    "\n",
    "    print(\"ISBN Valid!\")\n",
    "    return True"
   ]
  },
  {
   "cell_type": "code",
   "execution_count": null,
   "metadata": {},
   "outputs": [],
   "source": [
    "# Word similarity checker\n",
    "\n",
    "def check_word_overlap(text1, text2):\n",
    "\n",
    "    words_text1 = set(text1.lower().split())\n",
    "    words_text2 = set(text2.lower().split())\n",
    "\n",
    "    overlap_count = len(words_text1.intersection(words_text2))\n",
    "    total_unique_words = len(words_text1.union(words_text2))\n",
    "\n",
    "    similarity_score = overlap_count / total_unique_words if total_unique_words != 0 else 0\n",
    "\n",
    "    return similarity_score\n",
    "\n",
    "calculate_word_overlap('hello', 'hi') "
   ]
  },
  {
   "cell_type": "code",
   "execution_count": null,
   "metadata": {},
   "outputs": [],
   "source": [
    "## Prime Number Validator\n",
    "\n",
    "def prime_number(num): \n",
    "\n",
    "# number has to be greater than 1 \n",
    "# and not a product of two other SMALLER natural numbers  \n",
    "\n",
    "    if num <= 1: \n",
    "        print(\"This number is not Prime\")\n",
    "        return False\n",
    "    \n",
    "    for x in range(2, int(n ** 0.5) + 1): \n",
    "        if n % x == 0:\n",
    "            print(\"This number is not Prime.\")\n",
    "            return False\n",
    "\n",
    "    print(\"Your number is Prime!\")\n",
    "    return True\n"
   ]
  }
 ],
 "metadata": {
  "kernelspec": {
   "display_name": "Python 3",
   "language": "python",
   "name": "python3"
  },
  "language_info": {
   "codemirror_mode": {
    "name": "ipython",
    "version": 3
   },
   "file_extension": ".py",
   "mimetype": "text/x-python",
   "name": "python",
   "nbconvert_exporter": "python",
   "pygments_lexer": "ipython3",
   "version": "3.12.3"
  }
 },
 "nbformat": 4,
 "nbformat_minor": 2
}
