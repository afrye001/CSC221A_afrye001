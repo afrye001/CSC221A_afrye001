{
 "cells": [
  {
   "cell_type": "code",
   "execution_count": 26,
   "metadata": {},
   "outputs": [
    {
     "name": "stdout",
     "output_type": "stream",
     "text": [
      "Is bike == 'yamaha'? I predict True.\n",
      "True\n",
      "Is bike == 'honda'? I predict False.\n",
      "False\n",
      "\n",
      "About Pizza:\n",
      "Pizza is good\n",
      "True\n",
      "Pizza is bad\n",
      "False\n",
      "\n",
      "About Water:\n",
      "Water is not wet\n",
      "True\n",
      "Water is wet \n",
      "False\n",
      "\n",
      "About Coffee:\n",
      "Coffee is delicious\n",
      "True\n",
      "Coffee sucks\n",
      "False\n",
      "\n",
      "About The Superbowl:\n",
      "The Superbowl was rigged\n",
      "True\n",
      "The Superbowl was not rigged\n",
      "False\n",
      "\n",
      "About Showers:\n",
      "Showering is good.\n",
      "True\n",
      "Showering is bad.\n",
      "False\n"
     ]
    }
   ],
   "source": [
    "# 5.1 \n",
    "\n",
    "bike = 'yamaha' \n",
    "print(\"Is bike == 'yamaha'? I predict True.\")\n",
    "print(bike == 'yamaha') \n",
    "\n",
    "print(\"Is bike == 'honda'? I predict False.\")\n",
    "print(bike == 'honda') \n",
    "\n",
    "print(f\"\\nAbout Pizza:\")\n",
    "\n",
    "pizza = 'good' \n",
    "print(\"Pizza is good\")\n",
    "print(pizza == 'good')\n",
    "\n",
    "print(\"Pizza is bad\")\n",
    "print(pizza == 'bad')\n",
    "\n",
    "print(f\"\\nAbout Water:\")\n",
    "\n",
    "water = 'not wet' \n",
    "print(\"Water is not wet\")\n",
    "print(water == 'not wet')\n",
    "\n",
    "print(\"Water is wet \")\n",
    "print(water == 'wet') \n",
    "\n",
    "print(f\"\\nAbout Coffee:\")\n",
    "\n",
    "coffee = 'delicious'\n",
    "print(\"Coffee is delicious\")\n",
    "print(coffee == 'delicious')\n",
    "\n",
    "print(\"Coffee sucks\")\n",
    "print(coffee == 'sucks')\n",
    "\n",
    "print(f\"\\nAbout The Superbowl:\")\n",
    "\n",
    "superbowl = 'rigged'\n",
    "print(\"The Superbowl was rigged\")\n",
    "print(superbowl == 'rigged')\n",
    "\n",
    "print(\"The Superbowl was not rigged\")\n",
    "print(superbowl == 'not rigged')\n",
    "\n",
    "print(f\"\\nAbout Showers:\")\n",
    "\n",
    "showers = 'good' \n",
    "print(\"Showering is good.\")\n",
    "print(showers == 'good')\n",
    "\n",
    "print(\"Showering is bad.\") \n",
    "print(showers == 'bad')"
   ]
  },
  {
   "cell_type": "code",
   "execution_count": 27,
   "metadata": {},
   "outputs": [
    {
     "name": "stdout",
     "output_type": "stream",
     "text": [
      "True\n",
      "hello world\n",
      "True\n"
     ]
    }
   ],
   "source": [
    "# 5.2 \n",
    "\n",
    "sky = 'blue' \n",
    "if sky == 'blue': \n",
    "    print(\"True\")\n",
    "elif sky != 'blue':\n",
    "    print(\"False\")\n",
    "\n",
    "statement = \"Hello WoRlD\"\n",
    "\n",
    "if statement != statement.lower():\n",
    "     lowercase = statement.lower()\n",
    "     print(lowercase) \n",
    "\n",
    "x = 10 \n",
    "y = 20 \n",
    "\n",
    "if x == y: \n",
    "    print(\"False\")\n",
    "elif x != y: \n",
    "    print(x != y)\n",
    "elif x < y:\n",
    "    print(x < y)\n",
    "elif x > y: \n",
    "    print(\"Hi\")\n",
    "elif x <= y: \n",
    "    print(\"Hi\")\n",
    "elif x >= y:\n",
    "    print(\"Hi\")"
   ]
  },
  {
   "cell_type": "code",
   "execution_count": 28,
   "metadata": {},
   "outputs": [
    {
     "name": "stdout",
     "output_type": "stream",
     "text": [
      "You earned 5 Points!\n"
     ]
    }
   ],
   "source": [
    "# 5.3 \n",
    "\n",
    "alien_color = 'green'\n",
    "\n",
    "if (alien_color == 'green'):\n",
    "    print(\"You earned 5 Points!\")\n",
    "\n",
    "if (alien_color != 'green'):\n",
    "    print(\"\")\n",
    "\n"
   ]
  },
  {
   "cell_type": "code",
   "execution_count": 29,
   "metadata": {},
   "outputs": [
    {
     "name": "stdout",
     "output_type": "stream",
     "text": [
      "You are a kid!\n"
     ]
    }
   ],
   "source": [
    "# 5.6\n",
    "\n",
    "age = 10\n",
    "\n",
    "if (age > 10):\n",
    "    print(\"You are a baby!\")\n",
    "elif (2 <= age < 4):\n",
    "    print(\"You are a toddler!\") \n",
    "elif (13 > age >= 4):\n",
    "    print(\"You are a kid!\") \n",
    "elif (20 > age >= 13):\n",
    "    print(\"You are a teenager!\")\n",
    "elif (20 < age < 65):\n",
    "    print(\"You are an adult\")\n",
    "else: \n",
    "    print(\"You are a senior!\") "
   ]
  },
  {
   "cell_type": "code",
   "execution_count": 30,
   "metadata": {},
   "outputs": [
    {
     "name": "stdout",
     "output_type": "stream",
     "text": [
      "You are a kid!\n"
     ]
    }
   ],
   "source": [
    "# 5.12 \n",
    "\n",
    "age = 10\n",
    "\n",
    "if (age > 10):\n",
    "    print(\"You are a baby!\")\n",
    "elif (2 <= age < 4):\n",
    "    print(\"You are a toddler!\") \n",
    "elif (13 > age >= 4):\n",
    "    print(\"You are a kid!\") \n",
    "elif (20 > age >= 13):\n",
    "    print(\"You are a teenager!\")\n",
    "elif (20 < age < 65):\n",
    "    print(\"You are an adult\")\n",
    "else: \n",
    "    print(\"You are a senior!\") "
   ]
  },
  {
   "cell_type": "code",
   "execution_count": 31,
   "metadata": {},
   "outputs": [],
   "source": [
    "# 5.13a\n",
    " \n",
    " # Problem: Determine best coffee roast for specific taste on a dark, medium, and light scale\n",
    " \n",
    " # if taste = 'bitter' ; print var rec rec_light\n",
    " # elif taste = 'semi-bitter' ; print var rec_medium\n",
    " # elif taste = 'non-bitter' ; print var rec_dark"
   ]
  },
  {
   "cell_type": "code",
   "execution_count": 32,
   "metadata": {},
   "outputs": [
    {
     "name": "stdout",
     "output_type": "stream",
     "text": [
      "I recommend medium roast coffee!\n"
     ]
    }
   ],
   "source": [
    "#5.13b \n",
    "\n",
    "taste = str(input(f\"Do you prefer bitter, semi-bitter, or non-bitter flavors?: \"))\n",
    "\n",
    "if (taste == 'bitter'): \n",
    "    print(\"I recommend dark roast coffee!\")\n",
    "elif (taste == 'semi-bitter'):\n",
    "    print(\"I recommend medium roast coffee!\")\n",
    "elif(taste == 'non-bitter'):\n",
    "    print(\"I recommned light roast coffee!\")"
   ]
  }
 ],
 "metadata": {
  "kernelspec": {
   "display_name": "Python 3",
   "language": "python",
   "name": "python3"
  },
  "language_info": {
   "codemirror_mode": {
    "name": "ipython",
    "version": 3
   },
   "file_extension": ".py",
   "mimetype": "text/x-python",
   "name": "python",
   "nbconvert_exporter": "python",
   "pygments_lexer": "ipython3",
   "version": "3.12.2"
  }
 },
 "nbformat": 4,
 "nbformat_minor": 2
}
