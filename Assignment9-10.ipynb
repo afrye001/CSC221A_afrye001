{
 "cells": [
  {
   "cell_type": "code",
   "execution_count": null,
   "metadata": {},
   "outputs": [],
   "source": [
    "# F1: Binary to Hex Converter\n",
    "# F2: Count Vowels\n",
    "# F3: Find Palindrome\n",
    "# F5: GPA Calculator\n",
    "# F6: \n",
    "# F7: \n",
    "# F8:\n",
    "# F9: \n",
    "# F10:\n",
    "\n",
    "\n",
    "\n",
    "\n"
   ]
  },
  {
   "cell_type": "code",
   "execution_count": 6,
   "metadata": {},
   "outputs": [],
   "source": [
    "# Binary to Hex\n",
    "\n",
    "binary = input(\"Please input a set of four or more binary numbers: \")\n",
    "\n",
    "def binary_to_hex(): \n",
    "    binary = (input(\"Please input a set of four or more binary numbers: \"))\n",
    "\n",
    "\n",
    "\n",
    "\n"
   ]
  },
  {
   "cell_type": "markdown",
   "metadata": {},
   "source": []
  }
 ],
 "metadata": {
  "kernelspec": {
   "display_name": "Python 3",
   "language": "python",
   "name": "python3"
  },
  "language_info": {
   "codemirror_mode": {
    "name": "ipython",
    "version": 3
   },
   "file_extension": ".py",
   "mimetype": "text/x-python",
   "name": "python",
   "nbconvert_exporter": "python",
   "pygments_lexer": "ipython3",
   "version": "3.12.2"
  }
 },
 "nbformat": 4,
 "nbformat_minor": 2
}
