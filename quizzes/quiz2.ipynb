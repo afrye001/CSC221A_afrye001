{
 "cells": [
  {
   "cell_type": "markdown",
   "metadata": {},
   "source": [
    "# Python Keywords - Quiz 2"
   ]
  },
  {
   "cell_type": "code",
   "execution_count": null,
   "metadata": {
    "metadata": {}
   },
   "outputs": [],
   "source": [
    "none_list = []\n",
    "\n",
    "none_var = None\n",
    "\n",
    "for x in none_list: \n",
    "    none_list.append(none_var)\n",
    "\n",
    "print(f\"{none_list} Nothing in this list!\")"
   ]
  },
  {
   "cell_type": "code",
   "execution_count": null,
   "metadata": {
    "metadata": {}
   },
   "outputs": [],
   "source": [
    "import random\n",
    "\n",
    "genres_list = ['jazz', 'rock', 'r&b', 'hip-hop', 'classical']\n",
    "\n",
    "for genre in genres_list:\n",
    "    print(random.choice(genres_list)) "
   ]
  },
  {
   "cell_type": "code",
   "execution_count": null,
   "metadata": {
    "metadata": {}
   },
   "outputs": [],
   "source": [
    "import datetime\n",
    "\n",
    "def getSeason(date):\n",
    "    seasons = {\n",
    "        'Spring': (datetime.date(date.year, 3, 20), datetime.date(date.year, 6, 20)),\n",
    "        'Summer': (datetime.date(date.year, 6, 21), datetime.date(date.year, 9, 22)),\n",
    "        'Autumn': (datetime.date(date.year, 9, 23), datetime.date(date.year, 12, 20)),\n",
    "        'Winter': (datetime.date(date.year, 12, 21), datetime.date(date.year, 12, 31))\n",
    "    }\n",
    "    \n",
    "    for season, (start, end) in seasons.items():\n",
    "        if start <= date <= end:\n",
    "            return season\n",
    "    if date < seasons['Spring'][0]:\n",
    "        return 'Winter'\n",
    "    if date > seasons['Winter'][1]:\n",
    "        return 'Spring'\n",
    "\n",
    "def main():\n",
    "    date = datetime.datetime.now().date()\n",
    "    current_season = getSeason(date)\n",
    "    print(f\"The current season is {current_season}\")\n",
    "\n",
    "main()"
   ]
  },
  {
   "cell_type": "code",
   "execution_count": null,
   "metadata": {
    "metadata": {}
   },
   "outputs": [],
   "source": [
    "class Car(): \n",
    "    def __init__(self, make, model, year): \n",
    "        self.make = str(make)\n",
    "        self.model = str(model)\n",
    "        self.year = str(year) \n",
    "\n",
    "    def carInfo(self): \n",
    "        print(f\"Make: {self.make}\\nModel: {self.model}\\nYear: {self.year}\\n\")\n",
    "\n",
    "class Miata(Car): \n",
    "    def __init__(self):\n",
    "        super().__init__(\"Mazda\", \"MX-4\", \"2024\")\n",
    "\n",
    "car = Miata()\n",
    "car.carInfo()\n"
   ]
  },
  {
   "cell_type": "code",
   "execution_count": null,
   "metadata": {
    "metadata": {}
   },
   "outputs": [],
   "source": [
    "import sys\n",
    "\n",
    "def judgemental_function(): \n",
    "\n",
    "    banned_languages = ['Java', 'JavaScript']\n",
    "        \n",
    "    your_language = input(\"Please type in your favorite language: \")\n",
    "    \n",
    "    if banned_languages[0] == your_language:\n",
    "        sys.stderr.write(\"Fatal Error! Your language sucks! >:(\")\n",
    "        pass\n",
    "    elif banned_languages[1] == your_language: \n",
    "        sys.stderr.write(\"Fatal Error! Your language sucks! >:(\")\n",
    "        pass\n",
    "    else: \n",
    "        print(\"Your language is great, use it in production! :)\")\n",
    "        pass \n",
    "\n",
    "judgemental_function()\n"
   ]
  },
  {
   "cell_type": "code",
   "execution_count": null,
   "metadata": {
    "metadata": {}
   },
   "outputs": [],
   "source": [
    "def power(num, power): \n",
    "\n",
    "    num_raised = num ** power \n",
    "    print(f\"{num_raised}\")\n",
    "\n",
    "try: \n",
    "    power(2, 16) \n",
    "except ValueError: \n",
    "    print(\"There was not a number provided, please fix this code.\")\n",
    "finally: \n",
    "    print(\"The try/except block in this code was successful.\")\n"
   ]
  },
  {
   "cell_type": "code",
   "execution_count": null,
   "metadata": {
    "metadata": {}
   },
   "outputs": [],
   "source": [
    "## ERROR IN THIS FUNCTION OCCURS BECAUSE IT IS IN A JUPYTER NOTEBOOK ## \n",
    "\n",
    "import asyncio\n",
    "\n",
    "async def async_task():\n",
    "    await asyncio.sleep(1)\n",
    "    print(\"Async task completed!\")\n",
    "\n",
    "async def main():\n",
    "    await async_task()\n",
    "\n",
    "async def write_to_file():\n",
    "    async with asyncio.open(\"example.txt\", \"w\") as file:\n",
    "        await file.write(\"This is an example file!\")\n",
    "\n",
    "x = 5\n",
    "if not x == 3:\n",
    "    print(\"x is not equal to 3!\")\n",
    "\n",
    "y = 10\n",
    "assert y > 0, \"y must be positive!\"\n",
    "\n",
    "async def async_function():\n",
    "    print(\"This is an asynchronous function!\")\n",
    "\n",
    "square = lambda x: x ** 2\n",
    "print(\"Square of 5:\", square(5))\n",
    "\n",
    "def outer():\n",
    "    x = 10\n",
    "    def inner():\n",
    "        nonlocal x\n",
    "        x += 5\n",
    "        print(\"Inner x:\", x)\n",
    "    inner()\n",
    "    print(\"Outer x:\", x)\n",
    "\n",
    "outer()\n",
    "\n",
    "global_variable = 20\n",
    "def modify_global():\n",
    "    global global_variable\n",
    "    global_variable += 5\n",
    "\n",
    "modify_global()\n",
    "print(\"Modified global variable:\", global_variable)\n",
    "\n",
    "loop = asyncio.new_event_loop()\n",
    "asyncio.set_event_loop(loop)\n",
    "loop.run_until_complete(main())\n"
   ]
  }
 ],
 "metadata": {
  "kernelspec": {
   "display_name": "Python 3",
   "language": "python",
   "name": "python3"
  },
  "language_info": {
   "codemirror_mode": {
    "name": "ipython",
    "version": 3
   },
   "file_extension": ".py",
   "mimetype": "text/x-python",
   "name": "python",
   "nbconvert_exporter": "python",
   "pygments_lexer": "ipython3",
   "version": "3.12.3"
  }
 },
 "nbformat": 4,
 "nbformat_minor": 2
}
