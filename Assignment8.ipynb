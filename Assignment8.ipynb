{
 "cells": [
  {
   "cell_type": "code",
   "execution_count": null,
   "metadata": {},
   "outputs": [],
   "source": [
    "# 8.2\n",
    "\n",
    "def favorite_book(title): \n",
    "    print(f\"One of my favorite books is {title}\")\n",
    "\n",
    "favorite_book(\"Notes from the Underground\")"
   ]
  },
  {
   "cell_type": "code",
   "execution_count": null,
   "metadata": {},
   "outputs": [],
   "source": [
    "# 8.3\n",
    "\n",
    "def make_shirt(size, message): \n",
    "    print(f\"The shirt is a {size}, and it's printed message is: {message}.\")\n",
    "\n",
    "    \n",
    "make_shirt(\"Medium\",\"Hello, World!\")\n",
    "make_shirt(size = \"Large\", message = \"Goodbye, World!\")\n"
   ]
  },
  {
   "cell_type": "code",
   "execution_count": null,
   "metadata": {},
   "outputs": [],
   "source": [
    "# 8.4\n",
    "\n",
    "def make_shirt(size = \"large\", message = \"I love Python\"):\n",
    "    print(f\"The shirt is a {size}, and it's printed message is: {message}.\")\n",
    "\n",
    "make_shirt()\n",
    "make_shirt(size = \"medium\")\n",
    "make_shirt(size = \"small\", message = \"I love C\")\n"
   ]
  },
  {
   "cell_type": "code",
   "execution_count": 109,
   "metadata": {},
   "outputs": [
    {
     "name": "stdout",
     "output_type": "stream",
     "text": [
      "(52, 1008, [4, 6, 42])\n",
      "(43, 0, [False, True, 42])\n",
      "Cannot accept a string as argument!\n"
     ]
    }
   ],
   "source": [
    "# Custom Function \n",
    "\n",
    "## PSUEDO-CODE ## \n",
    "## define function(arg0, arg1, arg2)\n",
    "## define sum, product & list of arg0 - arg2 \n",
    "## print all operations of args \n",
    "## call function; make arg2 = 42  \n",
    "## test function for all input cases \n",
    "\n",
    "# Initial Function \n",
    "def func8(a, b, c = 42): \n",
    "    arg_sum = a + b + c\n",
    "    product = a * b * c\n",
    "    sorted_list = sorted([a, b, c])\n",
    "\n",
    "    return arg_sum, product, sorted_list\n",
    "\n",
    "# Test Cases\n",
    "\n",
    "print(func8(4, 6))\n",
    "print(func8(True, False))\n",
    "\n",
    "try: \n",
    "    print(func8(8, 7, 'hello'))\n",
    "except: \n",
    "    print(\"Cannot accept a string as argument!\")"
   ]
  }
 ],
 "metadata": {
  "kernelspec": {
   "display_name": "Python 3",
   "language": "python",
   "name": "python3"
  },
  "language_info": {
   "codemirror_mode": {
    "name": "ipython",
    "version": 3
   },
   "file_extension": ".py",
   "mimetype": "text/x-python",
   "name": "python",
   "nbconvert_exporter": "python",
   "pygments_lexer": "ipython3",
   "version": "3.12.2"
  }
 },
 "nbformat": 4,
 "nbformat_minor": 2
}
